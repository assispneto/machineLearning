{
 "cells": [
  {
   "cell_type": "code",
   "execution_count": 1,
   "id": "18997edb-45a2-43ab-97da-b12e7d3591ca",
   "metadata": {},
   "outputs": [],
   "source": [
    "# Vetorização\n",
    "\n",
    "# Para que meus dados possam ser processados, irei transformar eles em \n",
    "# dados numéricos, fazendo uso do TFIDF;\n",
    "\n",
    "# Para isso, meu TFIDF vai se encarregar de transformá-los em\n",
    "# dados numéricos, dando um número identificador para cada um;\n",
    "\n",
    "# Depois disso, vamos aplicar o TFIDF;\n",
    "\n",
    "# Importante lembrar que preciso reorganizar meus dados usando reshape,\n",
    "# por conta do uso do OneHotEncoder e de sua forma de funcionar"
   ]
  },
  {
   "cell_type": "code",
   "execution_count": 3,
   "id": "3e5b4925-7b3b-410b-a878-ca7a5f78e410",
   "metadata": {},
   "outputs": [],
   "source": [
    "# label_encoder = preprocessing.LabelEncoder()\n",
    "\n",
    "# # data['text'] = label_encoder.fit_transform(data['text'])\n",
    "# # data['toxic'] = label_encoder.fit_transform(data['toxic'])"
   ]
  },
  {
   "cell_type": "code",
   "execution_count": 4,
   "id": "1ea85a6a-8d5a-4273-98ac-89900f58f026",
   "metadata": {},
   "outputs": [
    {
     "ename": "NameError",
     "evalue": "name 'LogisticRegression' is not defined",
     "output_type": "error",
     "traceback": [
      "\u001b[0;31m---------------------------------------------------------------------------\u001b[0m",
      "\u001b[0;31mNameError\u001b[0m                                 Traceback (most recent call last)",
      "\u001b[0;32m/tmp/ipykernel_6271/1860988969.py\u001b[0m in \u001b[0;36m<module>\u001b[0;34m\u001b[0m\n\u001b[1;32m      1\u001b[0m \u001b[0;31m# Regressão Logística\u001b[0m\u001b[0;34m\u001b[0m\u001b[0;34m\u001b[0m\u001b[0;34m\u001b[0m\u001b[0m\n\u001b[1;32m      2\u001b[0m \u001b[0;34m\u001b[0m\u001b[0m\n\u001b[0;32m----> 3\u001b[0;31m \u001b[0mclf_LR\u001b[0m \u001b[0;34m=\u001b[0m \u001b[0mLogisticRegression\u001b[0m\u001b[0;34m(\u001b[0m\u001b[0;34m)\u001b[0m\u001b[0;34m\u001b[0m\u001b[0;34m\u001b[0m\u001b[0m\n\u001b[0m\u001b[1;32m      4\u001b[0m \u001b[0mclf_LR\u001b[0m \u001b[0;34m=\u001b[0m \u001b[0mclf_LR\u001b[0m\u001b[0;34m.\u001b[0m\u001b[0mfit\u001b[0m\u001b[0;34m(\u001b[0m\u001b[0mxTrain\u001b[0m\u001b[0;34m,\u001b[0m \u001b[0myTrain\u001b[0m\u001b[0;34m)\u001b[0m\u001b[0;34m\u001b[0m\u001b[0;34m\u001b[0m\u001b[0m\n\u001b[1;32m      5\u001b[0m \u001b[0;34m\u001b[0m\u001b[0m\n",
      "\u001b[0;31mNameError\u001b[0m: name 'LogisticRegression' is not defined"
     ]
    }
   ],
   "source": [
    "# Regressão Logística\n",
    "\n",
    "clf_LR = LogisticRegression()\n",
    "clf_LR = clf_LR.fit(xTrain, yTrain)\n",
    "\n",
    "accuracy = clf_LR.score(xTest, yTest)\n",
    "print(f'Accuracy:{accuracy}')\n",
    "\n",
    "prediction = clf_LR.predict(xTest)\n",
    "\n",
    "matrizConfusion_LR = confusion_matrix(prediction, yTest)\n",
    "reportClassification_LR = classification_report(prediction, yTest)\n",
    "\n",
    "print(matrizConfusion_LR)\n",
    "print(reportClassification_LR)\n"
   ]
  },
  {
   "cell_type": "code",
   "execution_count": 7,
   "id": "4ec65028-6305-435d-bad2-fb9a00571039",
   "metadata": {},
   "outputs": [
    {
     "ename": "NameError",
     "evalue": "name 'RandomForestClassifier' is not defined",
     "output_type": "error",
     "traceback": [
      "\u001b[0;31m---------------------------------------------------------------------------\u001b[0m",
      "\u001b[0;31mNameError\u001b[0m                                 Traceback (most recent call last)",
      "\u001b[0;32m/tmp/ipykernel_6271/633003853.py\u001b[0m in \u001b[0;36m<module>\u001b[0;34m\u001b[0m\n\u001b[1;32m      1\u001b[0m \u001b[0;31m# Random Forest\u001b[0m\u001b[0;34m\u001b[0m\u001b[0;34m\u001b[0m\u001b[0;34m\u001b[0m\u001b[0m\n\u001b[1;32m      2\u001b[0m \u001b[0;34m\u001b[0m\u001b[0m\n\u001b[0;32m----> 3\u001b[0;31m \u001b[0mclf_RF\u001b[0m \u001b[0;34m=\u001b[0m \u001b[0mRandomForestClassifier\u001b[0m\u001b[0;34m(\u001b[0m\u001b[0;34m)\u001b[0m\u001b[0;34m\u001b[0m\u001b[0;34m\u001b[0m\u001b[0m\n\u001b[0m\u001b[1;32m      4\u001b[0m \u001b[0mclf_RF\u001b[0m \u001b[0;34m=\u001b[0m \u001b[0mclf_RF\u001b[0m\u001b[0;34m.\u001b[0m\u001b[0mfit\u001b[0m\u001b[0;34m(\u001b[0m\u001b[0mxTrain\u001b[0m\u001b[0;34m,\u001b[0m \u001b[0myTrain\u001b[0m\u001b[0;34m)\u001b[0m\u001b[0;34m\u001b[0m\u001b[0;34m\u001b[0m\u001b[0m\n\u001b[1;32m      5\u001b[0m \u001b[0;34m\u001b[0m\u001b[0m\n",
      "\u001b[0;31mNameError\u001b[0m: name 'RandomForestClassifier' is not defined"
     ]
    }
   ],
   "source": [
    "# Random Forest\n",
    "\n",
    "clf_RF = RandomForestClassifier()\n",
    "clf_RF = clf_RF.fit(xTrain, yTrain)\n",
    "\n",
    "accuracy = clf_RF.score(xTest, yTest)\n",
    "print(f'Accuracy:{accuracy}')\n",
    "\n",
    "prediction = clf_RF.predict(xTest)\n",
    "\n",
    "matrizConfusion_RF = confusion_matrix(prediction, yTest)\n",
    "reportClassification_RF = classification_report(prediction, yTest)\n",
    "\n",
    "print(matrizConfusion_RF)\n",
    "print(reportClassification_RF)"
   ]
  },
  {
   "cell_type": "code",
   "execution_count": 8,
   "id": "316932e9-da4e-4076-b566-fbc752b6695b",
   "metadata": {},
   "outputs": [
    {
     "ename": "NameError",
     "evalue": "name 'MLPClassifier' is not defined",
     "output_type": "error",
     "traceback": [
      "\u001b[0;31m---------------------------------------------------------------------------\u001b[0m",
      "\u001b[0;31mNameError\u001b[0m                                 Traceback (most recent call last)",
      "\u001b[0;32m/tmp/ipykernel_6271/3941627229.py\u001b[0m in \u001b[0;36m<module>\u001b[0;34m\u001b[0m\n\u001b[0;32m----> 1\u001b[0;31m \u001b[0mclf_MLP\u001b[0m \u001b[0;34m=\u001b[0m \u001b[0mMLPClassifier\u001b[0m\u001b[0;34m(\u001b[0m\u001b[0mhidd\u001b[0m\u001b[0;34m)\u001b[0m\u001b[0;34m\u001b[0m\u001b[0;34m\u001b[0m\u001b[0m\n\u001b[0m\u001b[1;32m      2\u001b[0m \u001b[0mclf_MLP\u001b[0m \u001b[0;34m=\u001b[0m \u001b[0mclf_MLP\u001b[0m\u001b[0;34m.\u001b[0m\u001b[0mfit\u001b[0m\u001b[0;34m(\u001b[0m\u001b[0mxTrain\u001b[0m\u001b[0;34m,\u001b[0m \u001b[0myTrain\u001b[0m\u001b[0;34m)\u001b[0m\u001b[0;34m\u001b[0m\u001b[0;34m\u001b[0m\u001b[0m\n\u001b[1;32m      3\u001b[0m \u001b[0;34m\u001b[0m\u001b[0m\n\u001b[1;32m      4\u001b[0m \u001b[0maccuracy\u001b[0m \u001b[0;34m=\u001b[0m \u001b[0mclf_MLP\u001b[0m\u001b[0;34m.\u001b[0m\u001b[0mscore\u001b[0m\u001b[0;34m(\u001b[0m\u001b[0mxTest\u001b[0m\u001b[0;34m,\u001b[0m \u001b[0myTest\u001b[0m\u001b[0;34m)\u001b[0m\u001b[0;34m\u001b[0m\u001b[0;34m\u001b[0m\u001b[0m\n\u001b[1;32m      5\u001b[0m \u001b[0mprint\u001b[0m\u001b[0;34m(\u001b[0m\u001b[0;34mf'Accuracy:{accuracy}'\u001b[0m\u001b[0;34m)\u001b[0m\u001b[0;34m\u001b[0m\u001b[0;34m\u001b[0m\u001b[0m\n",
      "\u001b[0;31mNameError\u001b[0m: name 'MLPClassifier' is not defined"
     ]
    }
   ],
   "source": [
    "clf_MLP = MLPClassifier(hidd)\n",
    "clf_MLP = clf_MLP.fit(xTrain, yTrain)\n",
    "\n",
    "accuracy = clf_MLP.score(xTest, yTest)\n",
    "print(f'Accuracy:{accuracy}')\n",
    "\n",
    "prediction = clf_MLP.predict(xTest)\n",
    "\n",
    "matrizConfusion_MLP = confusion_matrix(prediction, yTest)\n",
    "reportClassification_MLP = classification_report(prediction, yTest)\n",
    "\n",
    "print(matrizConfusion_MLP)\n",
    "print(reportClassification_MLP)\n",
    "\n",
    "#########################################################################"
   ]
  }
 ],
 "metadata": {
  "kernelspec": {
   "display_name": "Python 3 (ipykernel)",
   "language": "python",
   "name": "python3"
  },
  "language_info": {
   "codemirror_mode": {
    "name": "ipython",
    "version": 3
   },
   "file_extension": ".py",
   "mimetype": "text/x-python",
   "name": "python",
   "nbconvert_exporter": "python",
   "pygments_lexer": "ipython3",
   "version": "3.8.10"
  }
 },
 "nbformat": 4,
 "nbformat_minor": 5
}
