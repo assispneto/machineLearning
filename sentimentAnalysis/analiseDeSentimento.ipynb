{
 "cells": [
  {
   "cell_type": "code",
   "execution_count": 1,
   "metadata": {
    "id": "EP6B2DKpMrMx"
   },
   "outputs": [],
   "source": [
    "import numpy as np\n",
    "import pandas as pd\n",
    "import seaborn as sns\n",
    "import matplotlib.pyplot as plt\n",
    "\n",
    "from sklearn.linear_model import LogisticRegression\n",
    "from sklearn.ensemble import RandomForestClassifier\n",
    "from sklearn.model_selection import train_test_split\n",
    "from sklearn.metrics import confusion_matrix, accuracy_score, roc_auc_score\n",
    "from sklearn.metrics import classification_report\n",
    "from sklearn.neural_network import MLPClassifier\n",
    "from sklearn import preprocessing\n",
    "from sklearn.feature_extraction.text import TfidfVectorizer\n",
    "from tqdm import tqdm"
   ]
  },
  {
   "cell_type": "code",
   "execution_count": 2,
   "metadata": {
    "colab": {
     "base_uri": "https://localhost:8080/",
     "height": 206
    },
    "id": "D70f3K9cPO2c",
    "outputId": "e537bde3-1d37-4318-a8f9-66c893a41927"
   },
   "outputs": [
    {
     "data": {
      "text/html": [
       "<div>\n",
       "<style scoped>\n",
       "    .dataframe tbody tr th:only-of-type {\n",
       "        vertical-align: middle;\n",
       "    }\n",
       "\n",
       "    .dataframe tbody tr th {\n",
       "        vertical-align: top;\n",
       "    }\n",
       "\n",
       "    .dataframe thead th {\n",
       "        text-align: right;\n",
       "    }\n",
       "</style>\n",
       "<table border=\"1\" class=\"dataframe\">\n",
       "  <thead>\n",
       "    <tr style=\"text-align: right;\">\n",
       "      <th></th>\n",
       "      <th>text</th>\n",
       "      <th>toxic</th>\n",
       "    </tr>\n",
       "  </thead>\n",
       "  <tbody>\n",
       "    <tr>\n",
       "      <th>0</th>\n",
       "      <td>explanation edit make username hardcore metall...</td>\n",
       "      <td>0</td>\n",
       "    </tr>\n",
       "    <tr>\n",
       "      <th>1</th>\n",
       "      <td>aww match background colour seemingly stick th...</td>\n",
       "      <td>0</td>\n",
       "    </tr>\n",
       "    <tr>\n",
       "      <th>2</th>\n",
       "      <td>hey really try edit guy constantly remove rele...</td>\n",
       "      <td>0</td>\n",
       "    </tr>\n",
       "    <tr>\n",
       "      <th>3</th>\n",
       "      <td>make real suggestion improvement wonder sectio...</td>\n",
       "      <td>0</td>\n",
       "    </tr>\n",
       "    <tr>\n",
       "      <th>4</th>\n",
       "      <td>sir hero chance remember page</td>\n",
       "      <td>0</td>\n",
       "    </tr>\n",
       "  </tbody>\n",
       "</table>\n",
       "</div>"
      ],
      "text/plain": [
       "                                                text  toxic\n",
       "0  explanation edit make username hardcore metall...      0\n",
       "1  aww match background colour seemingly stick th...      0\n",
       "2  hey really try edit guy constantly remove rele...      0\n",
       "3  make real suggestion improvement wonder sectio...      0\n",
       "4                      sir hero chance remember page      0"
      ]
     },
     "execution_count": 2,
     "metadata": {},
     "output_type": "execute_result"
    }
   ],
   "source": [
    "data = pd.read_json(\"PreProcessData.json\")\n",
    "data.head()"
   ]
  },
  {
   "cell_type": "code",
   "execution_count": 3,
   "metadata": {
    "colab": {
     "base_uri": "https://localhost:8080/"
    },
    "id": "jUTGrVlVSrWU",
    "outputId": "b7836d83-5232-46fd-ffc2-1a57191232a1"
   },
   "outputs": [
    {
     "name": "stdout",
     "output_type": "stream",
     "text": [
      "<class 'pandas.core.frame.DataFrame'>\n",
      "Int64Index: 159571 entries, 0 to 159570\n",
      "Data columns (total 2 columns):\n",
      " #   Column  Non-Null Count   Dtype \n",
      "---  ------  --------------   ----- \n",
      " 0   text    159571 non-null  object\n",
      " 1   toxic   159571 non-null  int64 \n",
      "dtypes: int64(1), object(1)\n",
      "memory usage: 3.7+ MB\n"
     ]
    }
   ],
   "source": [
    "# Conhecendo mais o banco de dados\n",
    "\n",
    "data.info()"
   ]
  },
  {
   "cell_type": "code",
   "execution_count": 4,
   "metadata": {
    "colab": {
     "base_uri": "https://localhost:8080/",
     "height": 477
    },
    "id": "aJHUYuTdS0ng",
    "outputId": "631c634f-16b1-4bf2-dff7-d94a6b7f0ffa"
   },
   "outputs": [
    {
     "name": "stdout",
     "output_type": "stream",
     "text": [
      "AxesSubplot(0.125,0.125;0.775x0.755) <seaborn.axisgrid.PairGrid object at 0x7f1e50fc06d0>\n"
     ]
    },
    {
     "data": {
      "image/png": "[encoded data removed]",
      "text/plain": [
       "<Figure size 432x288 with 1 Axes>"
      ]
     },
     "metadata": {
      "needs_background": "light"
     },
     "output_type": "display_data"
    },
    {
     "data": {
      "image/png": "[encoded data removed]",
      "text/plain": [
       "<Figure size 180x180 with 2 Axes>"
      ]
     },
     "metadata": {
      "needs_background": "light"
     },
     "output_type": "display_data"
    }
   ],
   "source": [
    "# Análise do nivel de toxicidade\n",
    "\n",
    "# Importante ser obervado que grande parte dos dados são '0s', \n",
    "# logo, nosso modelo terá um quantitativo de acertividade muito \n",
    "# grande, visto que os dados não são tão equivalentes.\n",
    "\n",
    "\n",
    "data.toxic.value_counts()\n",
    "grafico1 = sns.countplot(y=\"toxic\", data=data)\n",
    "grafico2 = sns.pairplot(data)\n",
    "\n",
    "print(grafico1, grafico2)"
   ]
  },
  {
   "cell_type": "code",
   "execution_count": 5,
   "metadata": {
    "id": "7qfLNQO2dTCN"
   },
   "outputs": [],
   "source": [
    "# Vetorização -> processo de \"nomear\" as palavras com números\n",
    "\n",
    "tfidf = TfidfVectorizer(max_features=None)\n",
    "\n",
    "X = tfidf.fit_transform(data.text)\n",
    "Y = data.toxic.to_numpy()"
   ]
  },
  {
   "cell_type": "code",
   "execution_count": 6,
   "metadata": {
    "id": "S9fBeb6pKsHT"
   },
   "outputs": [],
   "source": [
    "rng = np.random.RandomState(seed=1)\n",
    "xTrain, xTest, yTrain, yTest = train_test_split(X, Y, test_size=0.6, random_state=rng)"
   ]
  },
  {
   "cell_type": "code",
   "execution_count": 7,
   "metadata": {
    "colab": {
     "base_uri": "https://localhost:8080/"
    },
    "id": "rfVftwvWC-Nw",
    "outputId": "9072f29e-65c6-41e7-967f-9e4ee3af498b"
   },
   "outputs": [
    {
     "name": "stderr",
     "output_type": "stream",
     "text": [
      "100%|██████████| 5/5 [46:39<00:00, 559.84s/it]\n"
     ]
    }
   ],
   "source": [
    "# Random Forest\n",
    "\n",
    "randomForest = {\n",
    "    'acuracia_RF': list(),\n",
    "    'matrizDeConfusao_RF': list(),\n",
    "    'rocAUC_RF': list()\n",
    "}\n",
    "\n",
    "for i in tqdm(range(5)):\n",
    "\n",
    "    xTrain, xTest, yTrain, yTest = train_test_split(X, Y, test_size=0.6)\n",
    "\n",
    "    clf_RF = RandomForestClassifier()\n",
    "    clf_RF.fit(xTrain, yTrain)\n",
    "\n",
    "    yHat = clf_RF.predict(xTest)\n",
    "\n",
    "    randomForest['acuracia_RF'].append(accuracy_score(yTest, yHat))\n",
    "    randomForest['matrizDeConfusao_RF'].append(confusion_matrix(yTest, yHat))\n",
    "    randomForest['rocAUC_RF'].append(roc_auc_score(yTest, yHat))"
   ]
  },
  {
   "cell_type": "code",
   "execution_count": 8,
   "metadata": {
    "colab": {
     "base_uri": "https://localhost:8080/"
    },
    "id": "tREQgYmW12gR",
    "outputId": "c9c780b9-3f29-48e6-ad43-a3247b6f5a44"
   },
   "outputs": [
    {
     "name": "stderr",
     "output_type": "stream",
     "text": [
      "100%|██████████| 5/5 [00:24<00:00,  4.88s/it]\n"
     ]
    }
   ],
   "source": [
    "# Regressão logística\n",
    "\n",
    "regressaoLogistica = {\n",
    "    'acuracia_RL': list(),\n",
    "    'matrizDeConfusao_RL': list(),\n",
    "    'rocAUC_RL': list()\n",
    "}\n",
    "\n",
    "for i in tqdm(range(5)):\n",
    "    xTrain, xTest, yTrain, yTest = train_test_split(X, Y, test_size=0.6)\n",
    "\n",
    "    clf_RL = LogisticRegression()\n",
    "    clf_RL.fit(xTrain, yTrain)\n",
    "\n",
    "    yHat = clf_RL.predict(xTest)\n",
    "\n",
    "    regressaoLogistica['acuracia_RL'].append(accuracy_score(yTest, yHat))\n",
    "    regressaoLogistica['matrizDeConfusao_RL'].append(confusion_matrix(yTest, yHat))\n",
    "    regressaoLogistica['rocAUC_RL'].append(roc_auc_score(yTest, yHat))"
   ]
  },
  {
   "cell_type": "code",
   "execution_count": 9,
   "metadata": {
    "id": "6bBkkENG5Nrs"
   },
   "outputs": [],
   "source": [
    "# Media - Regressão Logística (RL)\n",
    "mediaAcuracia_RL = np.mean(regressaoLogistica['acuracia_RL'])\n",
    "mediaMatrizConf_RL = np.mean(regressaoLogistica['matrizDeConfusao_RL'], axis=0)\n",
    "mediaRocAUC_RL = np.mean(regressaoLogistica['rocAUC_RL'])\n",
    "# Desvio Padrão - Regressão Logística (RL)\n",
    "dpAcuracia_RL = np.std(regressaoLogistica['acuracia_RL'])\n",
    "dpMatrizConf_RL = np.std(regressaoLogistica['matrizDeConfusao_RL'], axis=0)\n",
    "dpRocAUC_RL = np.std(regressaoLogistica['rocAUC_RL'])\n",
    "\n",
    "# Media - Random Forest (RF)\n",
    "mediaAcuracia_RF = np.mean(randomForest['acuracia_RF'])\n",
    "mediaMatrizConf_RF = np.mean(randomForest['matrizDeConfusao_RF'], axis=0)\n",
    "mediaRocAUC_RF = np.mean(randomForest['rocAUC_RF'])\n",
    "# Desvio Padrão - Random Forest (RF)\n",
    "dpAcuracia_RF = np.std(randomForest['acuracia_RF'])\n",
    "dpMatrizConf_RF = np.std(randomForest['matrizDeConfusao_RF'], axis=0)\n",
    "dpRocAUC_RF = np.std(randomForest['rocAUC_RF'])"
   ]
  },
  {
   "cell_type": "code",
   "execution_count": 14,
   "metadata": {
    "id": "ZViJRVRCz8jW"
   },
   "outputs": [],
   "source": [
    "dataResult = {\n",
    "    'Media - Acuracia (RL)': mediaAcuracia_RL,\n",
    "    'Media - Matriz de Confusão (RL)': mediaMatrizConf_RL,\n",
    "    'Media - RocAUC (RL)': mediaRocAUC_RL,\n",
    "    'Desvio Padrão - Acuracia (RL)': dpAcuracia_RL,\n",
    "    'Desvio Padrão - Matriz de Confusão (RL)': dpMatrizConf_RL,\n",
    "    'Desvio Padrão - RocAUC (RL)': dpRocAUC_RL,\n",
    "\n",
    "    'Media - Acuracia (RF)': mediaAcuracia_RF,\n",
    "    'Media - Matriz de Confusão (RF)': mediaMatrizConf_RF,\n",
    "    'Media - RocAUC (RF)': mediaRocAUC_RF,\n",
    "    'Desvio Padrão - Acuracia (RF)': dpAcuracia_RF,\n",
    "    'Desvio Padrão - Matriz de Confusão (RF)': dpMatrizConf_RF,\n",
    "    'Desvio Padrão - RocAUC (RF)': dpRocAUC_RF\n",
    "}"
   ]
  },
  {
   "cell_type": "code",
   "execution_count": 15,
   "metadata": {
    "colab": {
     "base_uri": "https://localhost:8080/"
    },
    "id": "rugXjbCu9407",
    "outputId": "9cfe0e4b-1a72-41a8-f50d-bfe530a6fd45"
   },
   "outputs": [
    {
     "name": "stdout",
     "output_type": "stream",
     "text": [
      "###### MEDIA ######\n",
      "Media - Acuracia (RL): 0.9506303332880733\n",
      "Media - Matriz de Confusão (RL): [[85722.8   299. ]\n",
      " [ 4427.8  5293.4]]\n",
      "Media - RocAUC (RL): 0.7705230217457231\n",
      "                                                    \n",
      "###### DESVIO PADRÃO ######\n",
      "Desvio Padrão - Acuracia (RL): 0.0002491344790261689\n",
      "Desvio Padrão  - Matriz de Confusão (RL): [[42.55537569 30.99677403]\n",
      " [28.02427519 27.20735195]]\n",
      "Desvio Padrão  - RocAUC (RL): 0.0010548626015832222\n",
      "                                                    \n",
      "                                                    \n",
      "###### MEDIA ######\n",
      "Media - Acuracia (RF): 0.9486542097072371\n",
      "Media - Matriz de Confusão (RF): [[85701.8   305.4]\n",
      " [ 4610.6  5125.2]]\n",
      "Media - RocAUC (RF): 0.7614388106424712\n",
      "                                                    \n",
      "###### DESVIO PADRÃO ######\n",
      "Desvio Padrão - Acuracia (RF): 0.0005957650857493185\n",
      "Desvio Padrão  - Matriz de Confusão (RF): [[32.57852053 37.45183574]\n",
      " [61.9180103  61.94642847]]\n",
      "Desvio Padrão  - RocAUC (RF): 0.003045286417270766\n"
     ]
    }
   ],
   "source": [
    "print(\"###### MEDIA ######\")\n",
    "print(\"Media - Acuracia (RL):\", dataResult['Media - Acuracia (RL)'])\n",
    "print(\"Media - Matriz de Confusão (RL):\", dataResult['Media - Matriz de Confusão (RL)'])\n",
    "print(\"Media - RocAUC (RL):\", dataResult['Media - RocAUC (RL)'])\n",
    "print(\"                                                    \")\n",
    "print(\"###### DESVIO PADRÃO ######\")\n",
    "print(\"Desvio Padrão - Acuracia (RL):\", dataResult['Desvio Padrão - Acuracia (RL)'])\n",
    "print(\"Desvio Padrão  - Matriz de Confusão (RL):\", dataResult['Desvio Padrão - Matriz de Confusão (RL)'])\n",
    "print(\"Desvio Padrão  - RocAUC (RL):\", dataResult['Desvio Padrão - RocAUC (RL)'])\n",
    "\n",
    "\n",
    "print(\"                                                    \")\n",
    "print(\"                                                    \")\n",
    "\n",
    "\n",
    "print(\"###### MEDIA ######\")\n",
    "print(\"Media - Acuracia (RF):\", dataResult['Media - Acuracia (RF)'])\n",
    "print(\"Media - Matriz de Confusão (RF):\", dataResult['Media - Matriz de Confusão (RF)'])\n",
    "print(\"Media - RocAUC (RF):\", dataResult['Media - RocAUC (RF)'])\n",
    "print(\"                                                    \")\n",
    "print(\"###### DESVIO PADRÃO ######\")\n",
    "print(\"Desvio Padrão - Acuracia (RF):\", dataResult['Desvio Padrão - Acuracia (RF)'])\n",
    "print(\"Desvio Padrão  - Matriz de Confusão (RF):\", dataResult['Desvio Padrão - Matriz de Confusão (RF)'])\n",
    "print(\"Desvio Padrão  - RocAUC (RF):\", dataResult['Desvio Padrão - RocAUC (RF)'])"
   ]
  },
  {
   "cell_type": "code",
   "execution_count": 16,
   "metadata": {
    "colab": {
     "base_uri": "https://localhost:8080/",
     "height": 338
    },
    "id": "mE_zOMGjCr6d",
    "outputId": "66964f5e-dc27-409a-e291-3ada96f1f762"
   },
   "outputs": [
    {
     "data": {
      "text/plain": [
       "<matplotlib.axes._subplots.AxesSubplot at 0x7f1e457c24d0>"
      ]
     },
     "execution_count": 16,
     "metadata": {},
     "output_type": "execute_result"
    },
    {
     "data": {
      "image/png": "[encoded data removed]",
      "text/plain": [
       "<Figure size 720x360 with 2 Axes>"
      ]
     },
     "metadata": {
      "needs_background": "light"
     },
     "output_type": "display_data"
    }
   ],
   "source": [
    "plt.figure(figsize=(10,5))\n",
    "sns.heatmap(mediaMatrizConf_RL, annot=True, fmt='.2f')"
   ]
  },
  {
   "cell_type": "code",
   "execution_count": 13,
   "metadata": {
    "colab": {
     "base_uri": "https://localhost:8080/",
     "height": 338
    },
    "id": "oU70gb3fEUck",
    "outputId": "ce5071a3-3fa8-4edf-c435-e46a0bb73df2"
   },
   "outputs": [
    {
     "data": {
      "text/plain": [
       "<matplotlib.axes._subplots.AxesSubplot at 0x7f1e44f15790>"
      ]
     },
     "execution_count": 13,
     "metadata": {},
     "output_type": "execute_result"
    },
    {
     "data": {
      "image/png": "[encoded data removed]",
      "text/plain": [
       "<Figure size 720x360 with 2 Axes>"
      ]
     },
     "metadata": {
      "needs_background": "light"
     },
     "output_type": "display_data"
    }
   ],
   "source": [
    "plt.figure(figsize=(10,5))\n",
    "sns.heatmap(mediaMatrizConf_RF, annot=True, fmt='.2f')"
   ]
  },
  {
   "cell_type": "markdown",
   "metadata": {
    "id": "GCvGzmIlhRNi"
   },
   "source": [
    "\"Prever o futuro pode ser impossível, todavia, as previsões pelo menos nos tornam cientes das possibilidades que talvez não levássemos em consideração.\""
   ]
  },
  {
   "cell_type": "code",
   "execution_count": null,
   "metadata": {
    "id": "bkFUkM9aTSbt"
   },
   "outputs": [],
   "source": []
  }
 ],
 "metadata": {
  "colab": {
   "collapsed_sections": [],
   "name": "ProjetoFinal.ipynb",
   "provenance": []
  },
  "kernelspec": {
   "display_name": "Python 3 (ipykernel)",
   "language": "python",
   "name": "python3"
  },
  "language_info": {
   "codemirror_mode": {
    "name": "ipython",
    "version": 3
   },
   "file_extension": ".py",
   "mimetype": "text/x-python",
   "name": "python",
   "nbconvert_exporter": "python",
   "pygments_lexer": "ipython3",
   "version": "3.8.10"
  }
 },
 "nbformat": 4,
 "nbformat_minor": 4
}
